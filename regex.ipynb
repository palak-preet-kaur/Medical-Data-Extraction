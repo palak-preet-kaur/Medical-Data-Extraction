{
 "cells": [
  {
   "cell_type": "code",
   "execution_count": 1,
   "id": "79958375-14a4-4358-8a49-a4dcb6c078ae",
   "metadata": {},
   "outputs": [],
   "source": [
    "import re"
   ]
  },
  {
   "cell_type": "code",
   "execution_count": 26,
   "id": "eea1cbf0-4f2e-4c66-b37e-372701a8199c",
   "metadata": {},
   "outputs": [
    {
     "data": {
      "text/plain": [
       "['7321119999', '120']"
      ]
     },
     "execution_count": 26,
     "metadata": {},
     "output_type": "execute_result"
    }
   ],
   "source": [
    "text = \"Patient's phone is 7321119999. Bill amount is 120$\"\n",
    "\n",
    "pattern = r'\\d+'\n",
    "\n",
    "match = re.findall(pattern, text)\n",
    "match"
   ]
  },
  {
   "cell_type": "markdown",
   "id": "d8b87515-09b9-4058-9f9a-48a00b1055e4",
   "metadata": {},
   "source": [
    "**Extract only phone number. Phone number is always 10 digits.**"
   ]
  },
  {
   "cell_type": "code",
   "execution_count": 27,
   "id": "4c39616a-9451-410c-81e7-12dd0ccadacb",
   "metadata": {},
   "outputs": [
    {
     "data": {
      "text/plain": [
       "['7321119999']"
      ]
     },
     "execution_count": 27,
     "metadata": {},
     "output_type": "execute_result"
    }
   ],
   "source": [
    "text = \"Patient's phone is 7321119999. Bill amount is 120$\"\n",
    "\n",
    "pattern = r'\\d{10}'\n",
    "\n",
    "match = re.findall(pattern, text)\n",
    "match"
   ]
  },
  {
   "cell_type": "markdown",
   "id": "3eb381c3-18a3-499e-953d-31753d23d587",
   "metadata": {},
   "source": [
    "**Extract phone number which is either 10 continuous digits or follows this format(xxx)-xxx-xxxx**"
   ]
  },
  {
   "cell_type": "code",
   "execution_count": 28,
   "id": "7bf5da96-79e1-4331-b121-4aa85b0d09d2",
   "metadata": {},
   "outputs": [
    {
     "data": {
      "text/plain": [
       "['(732)-111-9999', '7326664444']"
      ]
     },
     "execution_count": 28,
     "metadata": {},
     "output_type": "execute_result"
    }
   ],
   "source": [
    "text = \"Patient's phone is (732)-111-9999, spouse phone number 7326664444. Bill amount is 120$\"\n",
    "\n",
    "pattern = r\"\\(\\d{3}\\)-\\d{3}-\\d{4}|\\d{10}\"\n",
    "\n",
    "match = re.findall(pattern, text)\n",
    "match"
   ]
  },
  {
   "cell_type": "markdown",
   "id": "39b24dd9-a6ac-40ee-8b3f-b12367b00656",
   "metadata": {},
   "source": [
    "**Extract phone number and bill amount separately**"
   ]
  },
  {
   "cell_type": "code",
   "execution_count": 29,
   "id": "e055277a-ef3c-4e4e-926b-12fd8557969d",
   "metadata": {},
   "outputs": [
    {
     "data": {
      "text/plain": [
       "<re.Match object; span=(19, 50), match='7321119999. Bill amount is 120$'>"
      ]
     },
     "execution_count": 29,
     "metadata": {},
     "output_type": "execute_result"
    }
   ],
   "source": [
    "text = \"Patient's phone is 7321119999. Bill amount is 120$\"\n",
    "\n",
    "pattern = r'(\\d{10})\\D+(\\d+)\\$'\n",
    "\n",
    "match = re.search(pattern, text)\n",
    "match"
   ]
  },
  {
   "cell_type": "code",
   "execution_count": 16,
   "id": "3d5c99a3-c121-48f8-b8a1-01df4ebdcbcf",
   "metadata": {},
   "outputs": [],
   "source": [
    "phone_number, bill_amount = match.groups()"
   ]
  },
  {
   "cell_type": "code",
   "execution_count": 17,
   "id": "e9ef7c5d-b4aa-4a32-8c97-84112d085014",
   "metadata": {},
   "outputs": [
    {
     "data": {
      "text/plain": [
       "'7321119999'"
      ]
     },
     "execution_count": 17,
     "metadata": {},
     "output_type": "execute_result"
    }
   ],
   "source": [
    "phone_number"
   ]
  },
  {
   "cell_type": "code",
   "execution_count": 18,
   "id": "4a0757f8-e8d3-444e-a34b-1a96ff9e0df1",
   "metadata": {},
   "outputs": [
    {
     "data": {
      "text/plain": [
       "'120'"
      ]
     },
     "execution_count": 18,
     "metadata": {},
     "output_type": "execute_result"
    }
   ],
   "source": [
    "bill_amount"
   ]
  },
  {
   "cell_type": "code",
   "execution_count": 19,
   "id": "82b9e83b-ec58-4d26-ba31-c82ea1bc1d04",
   "metadata": {},
   "outputs": [],
   "source": [
    "text =  '''  \n",
    "\n",
    "Name: Marta Sharapova Date: 5/11/2022\n",
    "\n",
    "Address: 9 tennis court, new Russia, DC\n",
    "\n",
    "Prednisone 20 mg\n",
    "Lialda 2.4 gram\n",
    "\n",
    "Directions:\n",
    "\n",
    "Prednisone, Taper 5 mig every 3 days,\n",
    "Finish in 2.5 weeks a\n",
    "Lialda - take 2 pill everyday for 1 month\n",
    "\n",
    "Refill: 2 times\n",
    "'''"
   ]
  },
  {
   "cell_type": "code",
   "execution_count": 20,
   "id": "34f61729-c438-49d3-a55e-57ff461318f3",
   "metadata": {},
   "outputs": [
    {
     "data": {
      "text/plain": [
       "[' Marta Sharapova ']"
      ]
     },
     "execution_count": 20,
     "metadata": {},
     "output_type": "execute_result"
    }
   ],
   "source": [
    "pattern = \"Name:(.*)Date\"\n",
    "\n",
    "match = re.findall(pattern, text)\n",
    "match"
   ]
  },
  {
   "cell_type": "code",
   "execution_count": 21,
   "id": "631384d8-51ef-4fa5-8a6a-e41ba6dd1257",
   "metadata": {},
   "outputs": [
    {
     "data": {
      "text/plain": [
       "[' 9 tennis court, new Russia, DC']"
      ]
     },
     "execution_count": 21,
     "metadata": {},
     "output_type": "execute_result"
    }
   ],
   "source": [
    "pattern = \"Address:(.*)\\n\"\n",
    "\n",
    "match = re.findall(pattern, text)\n",
    "match"
   ]
  },
  {
   "cell_type": "code",
   "execution_count": 22,
   "id": "200e2472-f4aa-455d-b3e1-4422e9c3624d",
   "metadata": {},
   "outputs": [
    {
     "data": {
      "text/plain": [
       "'Prednisone 20 mg\\nLialda 2.4 gram'"
      ]
     },
     "execution_count": 22,
     "metadata": {},
     "output_type": "execute_result"
    }
   ],
   "source": [
    "pattern = \"Address:[^\\n]*(.*)Directions\"\n",
    "\n",
    "match = re.findall(pattern, text,flags = re.DOTALL)\n",
    "match[0].strip()"
   ]
  },
  {
   "cell_type": "code",
   "execution_count": 23,
   "id": "8b2e8920-02b7-4685-a6ab-398580153aef",
   "metadata": {},
   "outputs": [
    {
     "data": {
      "text/plain": [
       "'Prednisone, Taper 5 mig every 3 days,\\nFinish in 2.5 weeks a\\nLialda - take 2 pill everyday for 1 month'"
      ]
     },
     "execution_count": 23,
     "metadata": {},
     "output_type": "execute_result"
    }
   ],
   "source": [
    "pattern = \"Directions:(.*)Refill\"\n",
    "\n",
    "match = re.findall(pattern, text,flags = re.DOTALL)\n",
    "match[0].strip()"
   ]
  },
  {
   "cell_type": "code",
   "execution_count": 25,
   "id": "5d1a781b-a31e-4fd1-8b59-c9fc30c79449",
   "metadata": {},
   "outputs": [
    {
     "data": {
      "text/plain": [
       "[' 2 times']"
      ]
     },
     "execution_count": 25,
     "metadata": {},
     "output_type": "execute_result"
    }
   ],
   "source": [
    "pattern = \"Refill:(.*)\\n\"\n",
    "\n",
    "match = re.findall(pattern, text)\n",
    "match"
   ]
  },
  {
   "cell_type": "code",
   "execution_count": null,
   "id": "a8921aa5-c764-4d93-828f-2c7dba971c61",
   "metadata": {},
   "outputs": [],
   "source": []
  }
 ],
 "metadata": {
  "kernelspec": {
   "display_name": "Python 3 (ipykernel)",
   "language": "python",
   "name": "python3"
  },
  "language_info": {
   "codemirror_mode": {
    "name": "ipython",
    "version": 3
   },
   "file_extension": ".py",
   "mimetype": "text/x-python",
   "name": "python",
   "nbconvert_exporter": "python",
   "pygments_lexer": "ipython3",
   "version": "3.12.4"
  }
 },
 "nbformat": 4,
 "nbformat_minor": 5
}
